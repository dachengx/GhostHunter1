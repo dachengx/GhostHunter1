{
 "cells": [
  {
   "cell_type": "markdown",
   "metadata": {},
   "source": [
    "# 参数拟合法寻找光电子时间戳"
   ]
  },
  {
   "cell_type": "markdown",
   "metadata": {},
   "source": [
    "## 基础假设\n",
    "\n",
    "1. PMT对光电子入射的响应是线性时不变的"
   ]
  },
  {
   "cell_type": "markdown",
   "metadata": {},
   "source": [
    "## 技术路线\n",
    "\n",
    "1. 使用训练集，寻找PMT对单光电子(photoelectron)入射的标准响应模型(standard model)\n",
    "2. 使用梯度下降法拟合波形(waveform)对标准响应模型的卷积参数，将卷积参数作为光电子入射的概率"
   ]
  },
  {
   "cell_type": "markdown",
   "metadata": {},
   "source": [
    "## 1.*寻找标准响应模型*"
   ]
  },
  {
   "cell_type": "markdown",
   "metadata": {},
   "source": [
    "### 模块及文件路径导入"
   ]
  },
  {
   "cell_type": "code",
   "execution_count": 1,
   "metadata": {},
   "outputs": [],
   "source": [
    "import numpy as np\n",
    "import pandas as pd\n",
    "import h5py\n",
    "\n",
    "h5_path = '/Users/xudachengthu/Downloads/GHdataset/finalcontest_data/ztraining-0.h5'\n",
    "single_pe_path = '/Users/xudachengthu/Downloads/GHdataset/sketchystore/single_pe.h5'"
   ]
  },
  {
   "cell_type": "markdown",
   "metadata": {},
   "source": [
    "### 定义数据储存格式"
   ]
  },
  {
   "cell_type": "code",
   "execution_count": 2,
   "metadata": {},
   "outputs": [],
   "source": [
    "opd_pe = [('EventID', 'u1'), ('ChannelID', 'u1'), ('Waveform', 'f', 1029), ('speWf', 'f', 120)]"
   ]
  },
  {
   "cell_type": "markdown",
   "metadata": {},
   "source": [
    "### 筛选所有的单光电子入射事件"
   ]
  },
  {
   "cell_type": "markdown",
   "metadata": {},
   "source": [
    "#### 路径配置、定义搜索范围"
   ]
  },
  {
   "cell_type": "code",
   "execution_count": 3,
   "metadata": {},
   "outputs": [],
   "source": [
    "ztrfile = h5py.File(h5_path)\n",
    "    \n",
    "ent = ztrfile['Waveform']\n",
    "answ = pd.read_hdf(h5_path, \"GroundTruth\")\n",
    "l = min(len(ent), 1000)\n",
    "ent = ent[0:l]\n",
    "answ = answ[0:20*l]\n",
    "dt = np.zeros(int(l/10), dtype = opd_pe)\n",
    "count = 0\n",
    "num = 0"
   ]
  },
  {
   "cell_type": "markdown",
   "metadata": {},
   "source": [
    "#### 循环遍历找到单光电子入射的波形，并按电子入射时间对齐"
   ]
  },
  {
   "cell_type": "code",
   "execution_count": 4,
   "metadata": {
    "scrolled": true
   },
   "outputs": [
    {
     "name": "stdout",
     "output_type": "stream",
     "text": [
      "1% 2% 3% 4% 5% 6% 7% 8% 9% 10% 11% 12% 13% 14% 15% 16% 17% 18% 19% 20% 21% 22% 23% 24% 25% 26% 27% 28% 29% 30% 31% 32% 33% 34% 35% 36% 37% 38% 39% 40% 41% 42% 43% 44% 45% 46% 47% 48% 49% 50% 51% 52% 53% 54% 55% 56% 57% 58% 59% 60% 61% 62% 63% 64% 65% 66% 67% 68% 69% 70% 71% 72% 73% 74% 75% 76% 77% 78% 79% 80% 81% 82% 83% 84% 85% 86% 87% 88% 89% 90% 91% 92% 93% 94% 95% 96% 97% 98% 99% 100% "
     ]
    }
   ],
   "source": [
    "for i in range(l):\n",
    "    eid = ent[i]['EventID']\n",
    "    ch = ent[i]['ChannelID']\n",
    "    pe = answ.query(\"EventID=={} & ChannelID=={}\".format(eid, ch))\n",
    "    #pe = answ[eid*300 : eid*500].query(\"EventID=={} & ChannelID=={}\".format(eid, ch))\n",
    "    # 设定搜索范围，缩短运行时间\n",
    "    pev = pe['PETime'].values\n",
    "    unipe, c = np.unique(pev, return_counts=True)\n",
    "    \n",
    "    # 判断是否为单光电子入射\n",
    "    if np.size(unipe) == 1 and c[0] == 1:\n",
    "        wf = ent[i]['Waveform']\n",
    "        dt['speWf'][num] = wf[unipe[0] - 1 - 20 : unipe[0] - 1 + 100]\n",
    "        dt['EventID'][num] = eid\n",
    "        dt['ChannelID'][num] = ch\n",
    "        dt['Waveform'][num] = wf\n",
    "        # The 21th position is the pe incoming time\n",
    "        num = num + 1\n",
    "\n",
    "    count = count + 1\n",
    "    if count == int(l / 100):\n",
    "        print(int((i+1) / (l / 100)), end='% ', flush = True)\n",
    "        count = 0"
   ]
  },
  {
   "cell_type": "markdown",
   "metadata": {},
   "source": [
    "### 储存包含单光电子事件信息的数据"
   ]
  },
  {
   "cell_type": "code",
   "execution_count": 5,
   "metadata": {},
   "outputs": [],
   "source": [
    "dt = dt[np.where(dt['EventID'] > 0)]\n",
    "\n",
    "spp = h5py.File(single_pe_path, \"w\")\n",
    "spp.create_dataset('Sketchy', data=dt, compression='gzip')\n",
    "spp.close()"
   ]
  },
  {
   "cell_type": "markdown",
   "metadata": {},
   "source": [
    "## 2.*梯度下降法拟合参数*"
   ]
  },
  {
   "cell_type": "markdown",
   "metadata": {},
   "source": [
    "### 模块及文件路径导入"
   ]
  },
  {
   "cell_type": "code",
   "execution_count": 6,
   "metadata": {
    "scrolled": true
   },
   "outputs": [],
   "source": [
    "import numpy as np\n",
    "import tensorflow as tf\n",
    "import h5py\n",
    "\n",
    "fipt = \"/Users/xudachengthu/Downloads/GHdataset/finalcontest_data/ztraining-0.h5\"\n",
    "#fipt = \"/Users/xudachengthu/Downloads/GHdataset/finalcontest_data/zincm-problem.h5\"\n",
    "fopt = \"/Users/xudachengthu/Downloads/GHdataset/submission/first-submission-spe-fin.h5\"\n",
    "single_pe_path_old = '/Users/xudachengthu/Downloads/GH_LargeDoc/single_pe.h5'"
   ]
  },
  {
   "cell_type": "markdown",
   "metadata": {},
   "source": [
    "### 神经网络基础参数设定"
   ]
  },
  {
   "cell_type": "code",
   "execution_count": 7,
   "metadata": {},
   "outputs": [],
   "source": [
    "LEARNING_RATE = 0.005\n",
    "STEPS = 1000\n",
    "Length_pe = 1029\n",
    "KNIFE = 0.1"
   ]
  },
  {
   "cell_type": "markdown",
   "metadata": {},
   "source": [
    "### 定义数据格式"
   ]
  },
  {
   "cell_type": "code",
   "execution_count": 8,
   "metadata": {},
   "outputs": [],
   "source": [
    "opd = [('EventID', '<i8'), ('ChannelID', '<i2'), ('PETime', 'f4'), ('Weight', 'f4')]"
   ]
  },
  {
   "cell_type": "markdown",
   "metadata": {},
   "source": [
    "### 提取标准响应模型"
   ]
  },
  {
   "cell_type": "code",
   "execution_count": 9,
   "metadata": {},
   "outputs": [],
   "source": [
    "speFile = h5py.File(single_pe_path_old, 'r')\n",
    "spemean = np.mean(speFile['Sketchy']['speWf'], axis = 0)\n",
    "\n",
    "#计算波形数据中电压的基线，进行波形反转\n",
    "base_vol = np.mean(spemean[70:120])\n",
    "stdmodel = np.subtract(base_vol, spemean[20:120])\n",
    "#避免出现负数并减小波动\n",
    "stdmodel = np.multiply(np.around(np.divide(stdmodel, 0.05)), 0.05)\n",
    "stdmodel = np.abs(np.where(stdmodel >= 0, stdmodel, 0))\n",
    "\n",
    "speFile.close()\n",
    "model = stdmodel"
   ]
  },
  {
   "cell_type": "markdown",
   "metadata": {},
   "source": [
    "### 生成标准响应模型矩阵"
   ]
  },
  {
   "cell_type": "code",
   "execution_count": 10,
   "metadata": {
    "scrolled": true
   },
   "outputs": [],
   "source": [
    "mtray = np.concatenate((np.zeros(Length_pe), model[0 : 50], np.zeros(Length_pe)))\n",
    "loperator = np.concatenate([mtray[Length_pe - i : 2 * Length_pe + 50 - i] \n",
    "                            for i in range(Length_pe)]).reshape(Length_pe, Length_pe + 50)"
   ]
  },
  {
   "cell_type": "markdown",
   "metadata": {},
   "source": [
    "### 路径配置"
   ]
  },
  {
   "cell_type": "code",
   "execution_count": 11,
   "metadata": {},
   "outputs": [],
   "source": [
    "ipt = h5py.File(fipt, 'r')\n",
    "opt = h5py.File(fopt, \"w\")\n",
    "\n",
    "ent = ipt['Waveform']\n",
    "dt = np.zeros(Length_pe, dtype = opd)\n",
    "start = 0\n",
    "end = 0"
   ]
  },
  {
   "cell_type": "markdown",
   "metadata": {},
   "source": [
    "### 神经网络配置及训练"
   ]
  },
  {
   "cell_type": "code",
   "execution_count": 12,
   "metadata": {
    "scrolled": false
   },
   "outputs": [
    {
     "name": "stdout",
     "output_type": "stream",
     "text": [
      "Initial loss is 2702.956.\n",
      "After  100 training step(s), loss is   4.282.\n",
      "After  200 training step(s), loss is   2.076.\n",
      "After  300 training step(s), loss is   1.589.\n",
      "After  400 training step(s), loss is   1.398.\n",
      "After  500 training step(s), loss is   1.300.\n",
      "After  600 training step(s), loss is   1.241.\n",
      "After  700 training step(s), loss is   1.201.\n",
      "After  800 training step(s), loss is   1.172.\n",
      "After  900 training step(s), loss is   1.151.\n",
      "After 1000 training step(s), loss is   1.134.\n"
     ]
    }
   ],
   "source": [
    "with tf.Graph().as_default():\n",
    "    y_ = tf.placeholder(tf.float32, shape = (1, Length_pe + 50))\n",
    "    LO = tf.placeholder(tf.float32, shape = (Length_pe, Length_pe + 50))\n",
    "    w = tf.Variable(tf.random_uniform([1, Length_pe], minval = 0.0, maxval = 1.0))\n",
    "    wsq = tf.multiply(w, w)\n",
    "    y = tf.matmul(wsq, LO)\n",
    "    loss = tf.reduce_mean(tf.square(y_ - y))\n",
    "    train_step = tf.train.GradientDescentOptimizer(LEARNING_RATE).minimize(loss)\n",
    "    \n",
    "    wf = ent[1]['Waveform']\n",
    "    #wf = wf.reshape(1, len(wf))\n",
    "    #计算波形中的基线，进行反转\n",
    "    wf_input = (np.mean(wf[900:1000]) - wf)\n",
    "    wf_input = np.concatenate((wf_input, np.zeros((1, 50))[0, :])).reshape(1, Length_pe + 50)\n",
    "    with tf.Session() as sess:\n",
    "        init_op = tf.global_variables_initializer()\n",
    "        sess.run(init_op)\n",
    "\n",
    "        for k in range(STEPS):\n",
    "            _, loss_value, w_val, wsq_val, L, y_value = sess.run([train_step, loss, w, wsq, LO, y], \n",
    "                                                                 feed_dict = {LO : loperator, y_ : wf_input})\n",
    "            if k == 0:\n",
    "                print(\"Initial loss is {0:^7.3f}.\".format(loss_value))\n",
    "            if (k + 1) % 100 == 0:\n",
    "                print(\"After {0:>4} training step(s), loss is {1:>7}.\".format(k + 1, \n",
    "                                                                              \"{0:.3f}\".format(loss_value)))"
   ]
  },
  {
   "cell_type": "markdown",
   "metadata": {},
   "source": [
    "### 去除过小的分布值"
   ]
  },
  {
   "cell_type": "code",
   "execution_count": 13,
   "metadata": {},
   "outputs": [],
   "source": [
    "pf = wsq_val[0 : Length_pe]\n",
    "pf = np.where(pf > KNIFE, pf, 0)\n",
    "\n",
    "lenpf = np.size(np.where(pf > 0))\n",
    "if lenpf == 0:\n",
    "    pf[300] = 1"
   ]
  },
  {
   "cell_type": "markdown",
   "metadata": {},
   "source": [
    "### 存储数据"
   ]
  },
  {
   "cell_type": "code",
   "execution_count": 14,
   "metadata": {},
   "outputs": [],
   "source": [
    "pet = np.where(pf > 0)[1]\n",
    "lenpf = np.size(pet)\n",
    "pwe = pf[pf > 0]\n",
    "end = start + lenpf\n",
    "\n",
    "dt['PETime'][start:end] = pet\n",
    "dt['Weight'][start:end] = pwe\n",
    "dt['EventID'][start:end] = ent[0]['EventID']\n",
    "dt['ChannelID'][start:end] = ent[0]['ChannelID']\n",
    "start = end\n",
    "    \n",
    "dt = dt[np.where(dt['Weight'] > 0)]\n",
    "opt.create_dataset('Answer', data = dt, compression='gzip')\n",
    "\n",
    "ipt.close()\n",
    "opt.close()"
   ]
  },
  {
   "cell_type": "markdown",
   "metadata": {},
   "source": [
    "## 标准响应模型"
   ]
  },
  {
   "cell_type": "code",
   "execution_count": 15,
   "metadata": {
    "scrolled": true
   },
   "outputs": [
    {
     "data": {
      "image/png": "[encoded data removed]",
      "text/plain": [
       "<Figure size 432x288 with 1 Axes>"
      ]
     },
     "metadata": {
      "needs_background": "light"
     },
     "output_type": "display_data"
    }
   ],
   "source": [
    "%matplotlib inline\n",
    "import matplotlib.pyplot as plt\n",
    "plt.clf()\n",
    "plt.plot(model[0:50])\n",
    "plt.title(\"Standard Response Model\")\n",
    "plt.xlabel('ns')\n",
    "plt.ylabel('mV')\n",
    "plt.show()"
   ]
  },
  {
   "cell_type": "markdown",
   "metadata": {},
   "source": [
    "## 生成的概率分布"
   ]
  },
  {
   "cell_type": "code",
   "execution_count": 16,
   "metadata": {
    "scrolled": false
   },
   "outputs": [
    {
     "data": {
      "image/png": "[encoded data removed]",
      "text/plain": [
       "<Figure size 432x288 with 1 Axes>"
      ]
     },
     "metadata": {
      "needs_background": "light"
     },
     "output_type": "display_data"
    }
   ],
   "source": [
    "import matplotlib.pyplot as plt\n",
    "plt.clf()\n",
    "plt.plot(pf[0, :])\n",
    "plt.title(\"Probability Distribution\")\n",
    "plt.xlabel('ns')\n",
    "plt.ylabel('1')\n",
    "plt.show()"
   ]
  },
  {
   "cell_type": "markdown",
   "metadata": {},
   "source": [
    "## 真实的分布"
   ]
  },
  {
   "cell_type": "code",
   "execution_count": 17,
   "metadata": {},
   "outputs": [
    {
     "name": "stdout",
     "output_type": "stream",
     "text": [
      "[294 294 300 310 313 325 351 369]\n"
     ]
    },
    {
     "data": {
      "image/png": "[encoded data removed]",
      "text/plain": [
       "<Figure size 432x288 with 1 Axes>"
      ]
     },
     "metadata": {
      "needs_background": "light"
     },
     "output_type": "display_data"
    }
   ],
   "source": [
    "import pandas as pd\n",
    "import h5py\n",
    "ipt = h5py.File(fipt, 'r')\n",
    "ent = ipt['Waveform'][0 : 1000]\n",
    "\n",
    "eid = ent[1]['EventID']\n",
    "ch = ent[1]['ChannelID']\n",
    "th = pd.read_hdf(fipt,\"GroundTruth\")\n",
    "rh = th[0 : 2000]\n",
    "pe = th.query(\"EventID=={} & ChannelID=={}\".format(eid, ch))\n",
    "\n",
    "ipt.close()\n",
    "pt = pe['PETime'].values\n",
    "#pt = pt[(pt >= 200) & (pt < 500)]\n",
    "plt.xlim((0, 1029))\n",
    "print(pt)\n",
    "\n",
    "plt.clf()\n",
    "plt.vlines(pt, ymin=0, ymax=1)\n",
    "plt.plot(pf[0, :])\n",
    "plt.title(\"Waveform with Labels\")\n",
    "plt.xlabel('ns')\n",
    "plt.ylabel('1')\n",
    "plt.show()"
   ]
  },
  {
   "cell_type": "markdown",
   "metadata": {},
   "source": [
    "## 原始波形和基于标准响应模型的预测波形之间的比较"
   ]
  },
  {
   "cell_type": "code",
   "execution_count": 18,
   "metadata": {
    "scrolled": true
   },
   "outputs": [
    {
     "data": {
      "image/png": "[encoded data removed]",
      "text/plain": [
       "<Figure size 432x288 with 1 Axes>"
      ]
     },
     "metadata": {
      "needs_background": "light"
     },
     "output_type": "display_data"
    }
   ],
   "source": [
    "import matplotlib.pyplot as plt\n",
    "plt.clf()\n",
    "plt.plot(wf[200:500])\n",
    "plt.title(\"Original Waveform\")\n",
    "plt.xlabel('ns')\n",
    "plt.ylabel('mV')\n",
    "plt.show()"
   ]
  },
  {
   "cell_type": "code",
   "execution_count": 19,
   "metadata": {},
   "outputs": [
    {
     "data": {
      "image/png": "[encoded data removed]",
      "text/plain": [
       "<Figure size 432x288 with 1 Axes>"
      ]
     },
     "metadata": {
      "needs_background": "light"
     },
     "output_type": "display_data"
    }
   ],
   "source": [
    "import matplotlib.pyplot as plt\n",
    "plt.clf()\n",
    "plt.plot((np.mean(wf[900:1000]) - wf)[200:500])\n",
    "plt.title(\"Reversed Waveform\")\n",
    "plt.xlabel('ns')\n",
    "plt.ylabel('mV')\n",
    "plt.show()"
   ]
  },
  {
   "cell_type": "code",
   "execution_count": 20,
   "metadata": {
    "scrolled": true
   },
   "outputs": [
    {
     "data": {
      "image/png": "[encoded data removed]",
      "text/plain": [
       "<Figure size 432x288 with 1 Axes>"
      ]
     },
     "metadata": {
      "needs_background": "light"
     },
     "output_type": "display_data"
    }
   ],
   "source": [
    "import matplotlib.pyplot as plt\n",
    "plt.clf()\n",
    "plt.plot(np.matmul(pf, loperator)[0, 200 : 500])\n",
    "plt.title(\"Simulative Waveform\")\n",
    "plt.xlabel('ns')\n",
    "plt.ylabel('mV')\n",
    "plt.show()"
   ]
  },
  {
   "cell_type": "code",
   "execution_count": 21,
   "metadata": {},
   "outputs": [],
   "source": [
    "exit()"
   ]
  },
  {
   "cell_type": "markdown",
   "metadata": {},
   "source": [
    "## 备注\n",
    "\n",
    "1. 在实际的程序中，利用tensorflow的特性，可以每次训练多条波形\n",
    "2. 在实际过程中，发现电压波动多集中在[200 : 600]的范围内，在实际操作时，牺牲一些准确度，可以只取一小段波形进行参数拟合"
   ]
  },
  {
   "cell_type": "markdown",
   "metadata": {},
   "source": [
    "## 优点\n",
    "\n",
    "1. 模型清晰，预测波形和实际输入波形相似程度高\n",
    "2. 参数拟合过程程序简洁"
   ]
  },
  {
   "cell_type": "markdown",
   "metadata": {},
   "source": [
    "## 缺点\n",
    "\n",
    "1. 训练时间过长，使用实验室服务器（CPU: Intel(R) Xeon(R) CPU E5-2630 v3 @ 2.40GHz），所需时间为21小时左右\n",
    "2. 未考察各channel的特异性"
   ]
  },
  {
   "cell_type": "markdown",
   "metadata": {},
   "source": [
    "## 改进的方向\n",
    "\n",
    "1. 寻找响应模型的模式，对响应模型进行分类\n",
    "2. 缩短训练时间\n",
    "3. 考察各channel的特异性\n",
    "4. 使用多模型进行参数拟合，以避免电压变化的模式的统计涨落对结果的不良影响，并尽量按整数拟合\n",
    "5. 消除波形(waveform)中的噪声"
   ]
  }
 ],
 "metadata": {
  "kernelspec": {
   "display_name": "Python 3",
   "language": "python",
   "name": "python3"
  },
  "language_info": {
   "codemirror_mode": {
    "name": "ipython",
    "version": 3
   },
   "file_extension": ".py",
   "mimetype": "text/x-python",
   "name": "python",
   "nbconvert_exporter": "python",
   "pygments_lexer": "ipython3",
   "version": "3.5.6"
  }
 },
 "nbformat": 4,
 "nbformat_minor": 2
}
